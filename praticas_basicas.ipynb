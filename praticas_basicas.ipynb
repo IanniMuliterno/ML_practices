{
 "cells": [
  {
   "cell_type": "code",
   "execution_count": 2,
   "metadata": {},
   "outputs": [
    {
     "name": "stdout",
     "output_type": "stream",
     "text": [
      "escolha um numero de 1 a 10  :  3\n"
     ]
    }
   ],
   "source": [
    "# Ex1 : um entrevistado vai tentar adivinhar um valor inteiro entre 1 e 10\n",
    "# a função diz se o palpite é maior, menor ou exato e em todas as ocasiões retorna o valor correto\n",
    "\n",
    "variavel = int(input('escolha um numero de 1 a 10  :  '))"
   ]
  },
  {
   "cell_type": "code",
   "execution_count": 3,
   "metadata": {},
   "outputs": [
    {
     "name": "stdout",
     "output_type": "stream",
     "text": [
      "valor alvo  :  5\n"
     ]
    }
   ],
   "source": [
    "numero_correto = int(input('valor alvo  :  '))"
   ]
  },
  {
   "cell_type": "code",
   "execution_count": 4,
   "metadata": {},
   "outputs": [
    {
     "name": "stdout",
     "output_type": "stream",
     "text": [
      "o numero correto é maior\n",
      "Resultado = 5\n"
     ]
    }
   ],
   "source": [
    "if variavel < 1 or variavel > 10:\n",
    "   print('validos apenas inteiros de 1 a 10')\n",
    "   print('Resultado = {}'.format(numero_correto))\n",
    "elif variavel == numero_correto:\n",
    "   print('vc acertou')\n",
    "   print('Resultado = {}'.format(numero_correto))\n",
    "elif variavel < numero_correto:\n",
    "   print('o numero correto é maior')\n",
    "   print('Resultado = {}'.format(numero_correto))\n",
    "else:\n",
    "   print('o numero correto é menor')\n",
    "   print('Resultado = {}'.format(numero_correto))"
   ]
  },
  {
   "cell_type": "code",
   "execution_count": 5,
   "metadata": {},
   "outputs": [
    {
     "name": "stdout",
     "output_type": "stream",
     "text": [
      "Entre com um número: 1\n",
      "1.0\n",
      "Entre com um número: 2.4\n",
      "3.4\n",
      "Entre com um número: 5.75\n",
      "9.15\n",
      "Entre com um número: 4\n",
      "13.15\n",
      "Entre com um número: 10\n",
      "23.15\n",
      "Entre com um número: 2\n",
      "25.15\n",
      "Entre com um número: 5.35\n",
      "30.5\n"
     ]
    }
   ],
   "source": [
    "# Ex2 : por 1 semana, soma gastos diários inputados manualmente\n",
    "#       mostra soma atualizada por dia\n",
    "\n",
    "contador = 1\n",
    "duracao = 7\n",
    "gasto = 0.0\n",
    "while contador <= duracao:\n",
    "    nums = float(input('Entre com um número: '))\n",
    "    gasto = gasto + nums\n",
    "    contador = contador + 1\n",
    "    print(gasto)"
   ]
  },
  {
   "cell_type": "code",
   "execution_count": 6,
   "metadata": {},
   "outputs": [
    {
     "name": "stdout",
     "output_type": "stream",
     "text": [
      "linguagem: PHP\n",
      "linguagem: Python\n"
     ]
    }
   ],
   "source": [
    "# Ex3 : mostra strings de uma lista desde que comecem com 'P'\n",
    "\n",
    "linguagens = ['Java', 'JavaScript', 'PHP', 'C', 'Python']\n",
    "\n",
    "for i in linguagens :\n",
    "    if i.startswith('P'):\n",
    "        print('linguagem: {}'.format(i))"
   ]
  }
 ],
 "metadata": {
  "kernelspec": {
   "display_name": "Python 3",
   "language": "python",
   "name": "python3"
  },
  "language_info": {
   "codemirror_mode": {
    "name": "ipython",
    "version": 3
   },
   "file_extension": ".py",
   "mimetype": "text/x-python",
   "name": "python",
   "nbconvert_exporter": "python",
   "pygments_lexer": "ipython3",
   "version": "3.7.4"
  }
 },
 "nbformat": 4,
 "nbformat_minor": 2
}
